{
    "cells": [
        {
            "cell_type": "markdown",
            "source": [
                "# Spring Constant Calculations\r\n",
                "- Script for finding spring force of a beam"
            ],
            "metadata": {}
        },
        {
            "cell_type": "markdown",
            "source": [
                "## Basic Linear Approximation\r\n",
                "- `1/k_eq` = SUM(`1/k_i`)"
            ],
            "metadata": {}
        },
        {
            "cell_type": "code",
            "execution_count": 9,
            "source": [
                "# k_eq = Torque / Theta\r\n",
                "import numpy as np\r\n",
                "import math\r\n",
                "\r\n",
                "l = 0.150/2   # meters\r\n",
                "m = 0.00827416965151607    # kg\r\n",
                "g = 9.81    # m / s**s\r\n",
                "P = 10 *  4.4482216153     # Newtons\r\n",
                "theta = math.radians(15)    # deg -> rad\r\n",
                "\r\n",
                "k_i = l * (m * g * math.cos(theta) / 2 + P) / theta\r\n",
                "print(k_i)\r\n",
                "\r\n",
                "c_ratio = 1.5\r\n",
                "c = c_ratio * 2 * np.sqrt(k_i *m)\r\n",
                "print(c)"
            ],
            "outputs": [
                {
                    "output_type": "stream",
                    "name": "stdout",
                    "text": [
                        "12.754446764319507\n",
                        "0.9745727818141077\n"
                    ]
                }
            ],
            "metadata": {}
        },
        {
            "cell_type": "markdown",
            "source": [
                "## According to size\r\n",
                "Using a round beam"
            ],
            "metadata": {}
        },
        {
            "cell_type": "code",
            "execution_count": 12,
            "source": [
                "import numpy as np\r\n",
                "Load = 10   # N\r\n",
                "Length = 0.12   # meters\r\n",
                "YoungsModulous = 0.709 * 10**9\r\n",
                "Diameter = 0.005 # meters\r\n",
                "\r\n",
                "delta = (64 * Load * Length**3) / (3 * np.pi * YoungsModulous * Diameter**4)\r\n",
                "print(f\"delta = {delta}\")\r\n",
                "\r\n",
                "spring_k = Load / delta\r\n",
                "print(f\"Spring K = {spring_k}\")"
            ],
            "outputs": [
                {
                    "output_type": "stream",
                    "name": "stdout",
                    "text": [
                        "delta = 0.26480509211349523\n",
                        "Spring K = 37.763624257323606\n"
                    ]
                }
            ],
            "metadata": {}
        }
    ],
    "metadata": {
        "orig_nbformat": 4,
        "language_info": {
            "name": "python",
            "version": "3.8.5",
            "mimetype": "text/x-python",
            "codemirror_mode": {
                "name": "ipython",
                "version": 3
            },
            "pygments_lexer": "ipython3",
            "nbconvert_exporter": "python",
            "file_extension": ".py"
        },
        "kernelspec": {
            "name": "python3",
            "display_name": "Python 3.8.5 64-bit ('stablebaselines3': conda)"
        },
        "interpreter": {
            "hash": "9bf3f12e20e8d171ed6b1000dc3ee3f65f6460fe318f7867dfeabe9f95027425"
        }
    },
    "nbformat": 4,
    "nbformat_minor": 2
}