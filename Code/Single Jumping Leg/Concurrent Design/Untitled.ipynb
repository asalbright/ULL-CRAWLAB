{
 "cells": [
  {
   "cell_type": "code",
   "execution_count": 10,
   "metadata": {},
   "outputs": [
    {
     "name": "stdout",
     "output_type": "stream",
     "text": [
      "(12,)\n",
      "(2, 2, 3)\n"
     ]
    },
    {
     "data": {
      "text/plain": [
       "array([0., 0., 0., 1., 1., 1., 0., 0., 0., 1., 1., 1.])"
      ]
     },
     "execution_count": 10,
     "metadata": {},
     "output_type": "execute_result"
    }
   ],
   "source": [
    "import numpy as np\n",
    "\n",
    "blank = []\n",
    "obs_len = 3\n",
    "\n",
    "blank.extend([0 * np.ones(obs_len), 1 * np.ones(obs_len)] for i in range(2))\n",
    "\n",
    "blank_array = np.array(blank).flatten()\n",
    "\n",
    "print(np.shape(blank_array))\n",
    "print(np.shape(blank))\n",
    "blank_array"
   ]
  },
  {
   "cell_type": "code",
   "execution_count": 19,
   "metadata": {},
   "outputs": [
    {
     "data": {
      "text/plain": [
       "array([0., 0., 0.])"
      ]
     },
     "execution_count": 19,
     "metadata": {},
     "output_type": "execute_result"
    }
   ],
   "source": [
    "low_limit = None\n",
    "\n",
    "for _ in range(3):\n",
    "    try:\n",
    "        low_limit = np.concatenate((low_limit, [0 * np.ones(obs_len), 1 * np.ones(obs_len)]))\n",
    "    except:\n",
    "        low_limit = np.array([0 * np.ones(obs_len), 1 * np.ones(obs_len)])\n",
    "\n",
    "low_limit[0]"
   ]
  },
  {
   "cell_type": "code",
   "execution_count": 27,
   "metadata": {},
   "outputs": [
    {
     "data": {
      "text/plain": [
       "{'kv_0': 0, 'kp_0': 2, 'kv_1': 1, 'kp_1': 4, 'kv_2': 2, 'kp_2': 6}"
      ]
     },
     "execution_count": 27,
     "metadata": {},
     "output_type": "execute_result"
    }
   ],
   "source": [
    "action = [1, 2, 3, 4, 5, 6]\n",
    "params = None\n",
    "\n",
    "it = iter(action)\n",
    "i = 0\n",
    "for _ in it:\n",
    "    try:\n",
    "        params[f'kv_{i}'] = i\n",
    "        params[f'kp_{i}'] = next(it)\n",
    "    except:\n",
    "        params = {f'kv_{i}': i, f'kp_{i}': next(it)}\n",
    "    i += 1\n",
    "params"
   ]
  }
 ],
 "metadata": {
  "interpreter": {
   "hash": "40d3a090f54c6569ab1632332b64b2c03c39dcf918b08424e98f38b5ae0af88f"
  },
  "kernelspec": {
   "display_name": "Python 3.8.8 64-bit ('base': conda)",
   "language": "python",
   "name": "python3"
  },
  "language_info": {
   "codemirror_mode": {
    "name": "ipython",
    "version": 3
   },
   "file_extension": ".py",
   "mimetype": "text/x-python",
   "name": "python",
   "nbconvert_exporter": "python",
   "pygments_lexer": "ipython3",
   "version": "3.8.8"
  },
  "orig_nbformat": 4
 },
 "nbformat": 4,
 "nbformat_minor": 2
}
